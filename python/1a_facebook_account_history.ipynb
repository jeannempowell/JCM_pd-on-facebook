{
 "cells": [
  {
   "cell_type": "code",
   "execution_count": 10,
   "metadata": {},
   "outputs": [
    {
     "name": "stdout",
     "output_type": "stream",
     "text": [
      "Average length of time on Facebook: 13.46 years (SD = 2.84)\n",
      "Average number of posts on Facebook: 4490.91 (SD = 5636.56)\n",
      "Average number of posts per year on Facebook: 311.06 (SD = 375.7)\n",
      "              diagnosis_group  num_posts_mean  num_posts_std  \\\n",
      "0                   Caregiver     5790.083333    5859.190752   \n",
      "1            Essential Tremor     1354.333333     158.850034   \n",
      "2         Parkinson's disease     4054.413793    5741.372823   \n",
      "3  Post traumatic Parkinson's    10969.000000            NaN   \n",
      "\n",
      "   time_on_facebook_years_mean  time_on_facebook_years_std  \\\n",
      "0                    12.943448                    3.585752   \n",
      "1                    12.926471                    2.531878   \n",
      "2                    13.834659                    2.562777   \n",
      "3                    10.480523                         NaN   \n",
      "\n",
      "   posts_per_year_mean  posts_per_year_std  n_count  \n",
      "0           400.989358          377.981699       12  \n",
      "1           108.213276           29.660610        3  \n",
      "2           269.467146          369.638293       29  \n",
      "3          1046.608124                 NaN        1  \n"
     ]
    }
   ],
   "source": [
    "from constants import posts_token, all_posts, participants_token, participants_table1\n",
    "from functions import pull_redcap_report\n",
    "import pandas as pd\n",
    "\n",
    "posts = pull_redcap_report(posts_token, all_posts)\n",
    "participants = pull_redcap_report(participants_token, participants_table1)\n",
    "\n",
    "# Ensure 'timestamp' in posts is in datetime format\n",
    "posts['timestamp'] = pd.to_datetime(posts['timestamp'], errors='coerce')\n",
    "participants['diagnosis_date'] = pd.to_datetime(participants['diagnosis_date'], errors='coerce')\n",
    "\n",
    "# Group by 'participant_id' to find the first and last post timestamps\n",
    "participant_activity = posts.groupby('participant_id')['timestamp'].agg(['min', 'max']).reset_index()\n",
    "participant_activity.rename(columns={'min': 'first_post', 'max': 'last_post'}, inplace=True)\n",
    "\n",
    "\n",
    "# Create diagnosis group, defaulting missing dx_type to 'Caregiver'\n",
    "participants['diagnosis_group'] = participants['dx_type'].fillna('Caregiver')\n",
    "\n",
    "# Calculate total time on Facebook\n",
    "participant_activity['time_on_facebook'] = participant_activity['last_post'] - participant_activity['first_post']\n",
    "\n",
    "# Merge in diagnosis and demographics\n",
    "participant_activity = participant_activity.merge(\n",
    "    participants[['record_id', 'diagnosis_date', 'dx_type', 'dob', 'diagnosis_group']],\n",
    "    left_on='participant_id',\n",
    "    right_on='record_id',\n",
    "    how='left'\n",
    ")\n",
    "\n",
    "# Calculate time before diagnosis\n",
    "participant_activity['time_before_diagnosis'] = participant_activity['diagnosis_date'] - participant_activity['first_post']\n",
    "\n",
    "# Drop 'record_id' since we already have 'participant_id'\n",
    "participant_activity.drop(columns=['record_id'], inplace=True)\n",
    "\n",
    "# Calculate the number of posts per participant\n",
    "post_counts = posts.groupby('participant_id').size().reset_index(name='num_posts')\n",
    "\n",
    "# Merge post counts\n",
    "participant_activity = participant_activity.merge(post_counts, on='participant_id', how='left')\n",
    "\n",
    "# Calculate the average number of posts per participant\n",
    "average_posts_per_participant = participant_activity['num_posts'].mean()\n",
    "\n",
    "# Convert time_on_facebook to years\n",
    "participant_activity['time_on_facebook_years'] = participant_activity['time_on_facebook'].dt.total_seconds() / (365.25 * 24 * 3600)\n",
    "\n",
    "# Calculate the average length of time on Facebook in years\n",
    "average_facebook_duration_years = participant_activity['time_on_facebook_years'].mean()\n",
    "sd_facebook_duration_years = participant_activity['time_on_facebook_years'].std()\n",
    "\n",
    "# Display result\n",
    "print(f\"Average length of time on Facebook: {average_facebook_duration_years:.2f} years (SD = {round(sd_facebook_duration_years,2)})\")\n",
    "\n",
    "# Calculate the average number of posts on Facebook \n",
    "average_facebook_posts = participant_activity['num_posts'].mean()\n",
    "sd_facebook_posts = participant_activity['num_posts'].std()\n",
    "\n",
    "# Display result\n",
    "print(f\"Average number of posts on Facebook: {average_facebook_posts:.2f} (SD = {round(sd_facebook_posts,2)})\")\n",
    "\n",
    "# Calculate posts per year for each participant\n",
    "participant_activity['posts_per_year'] = participant_activity['num_posts'] / participant_activity['time_on_facebook_years']\n",
    "\n",
    "# Handle possible divide-by-zero or NaN values\n",
    "participant_activity['posts_per_year'].replace([float('inf'), -float('inf')], pd.NA, inplace=True)\n",
    "participant_activity['posts_per_year'] = participant_activity['posts_per_year'].fillna(0)\n",
    "\n",
    "# Compute average and standard deviation\n",
    "average_posts_per_year = participant_activity['posts_per_year'].mean()\n",
    "sd_posts_per_year = participant_activity['posts_per_year'].std()\n",
    "\n",
    "# Display result\n",
    "print(f\"Average number of posts per year on Facebook: {average_posts_per_year:.2f} (SD = {round(sd_posts_per_year,2)})\")\n",
    "\n",
    "# Summary stats by diagnosis group\n",
    "summary_by_dx = participant_activity.groupby('diagnosis_group').agg({\n",
    "    'num_posts': ['mean', 'std'],\n",
    "    'time_on_facebook_years': ['mean', 'std'],\n",
    "    'posts_per_year': ['mean', 'std'],\n",
    "    'participant_id': 'count'  # number of people in each group\n",
    "}).rename(columns={'participant_id': 'n'})\n",
    "\n",
    "# Clean up multi-level column names\n",
    "summary_by_dx.columns = ['_'.join(col).strip() for col in summary_by_dx.columns.values]\n",
    "summary_by_dx = summary_by_dx.reset_index()\n",
    "\n",
    "print(summary_by_dx)"
   ]
  },
  {
   "cell_type": "code",
   "execution_count": null,
   "metadata": {},
   "outputs": [
    {
     "name": "stdout",
     "output_type": "stream",
     "text": [
      "PD group: W = 0.717, p = 0.0000\n",
      "Caregiver group: W = 0.862, p = 0.0522\n",
      "\n",
      "Mann-Whitney U test:\n",
      "U = 119.000, p = 0.1184\n"
     ]
    }
   ],
   "source": [
    "import scipy.stats as stats\n",
    "from scipy.stats import shapiro\n",
    "\n",
    "# Subset participant_activity by group\n",
    "pd_group = participant_activity[participant_activity['diagnosis_group'] == \"Parkinson's disease\"]\n",
    "cg_group = participant_activity[participant_activity['diagnosis_group'] == \"Caregiver\"]\n",
    "\n",
    "# Drop missing values (if any)\n",
    "pd_posts_per_year = pd_group['posts_per_year'].dropna()\n",
    "cg_posts_per_year = cg_group['posts_per_year'].dropna()\n",
    "\n",
    "# Shapiro-Wilk test for PD group\n",
    "stat_pd, p_pd = shapiro(pd_posts_per_year)\n",
    "print(f\"PD group: W = {stat_pd:.3f}, p = {p_pd:.4f}\")\n",
    "# Fails normality test\n",
    "\n",
    "# Shapiro-Wilk test for Caregivers group\n",
    "stat_cg, p_cg = shapiro(cg_posts_per_year)\n",
    "print(f\"Caregiver group: W = {stat_cg:.3f}, p = {p_cg:.4f}\")\n",
    "\n",
    "\n",
    "# Mann-Whitney U test (non-parametric)\n",
    "u_stat, p_val_mwu = stats.mannwhitneyu(pd_posts_per_year, cg_posts_per_year, alternative='two-sided')\n",
    "\n",
    "\n",
    "print(\"\\nMann-Whitney U test:\")\n",
    "print(f\"U = {u_stat:.3f}, p = {p_val_mwu:.4f}\")\n"
   ]
  },
  {
   "cell_type": "code",
   "execution_count": 13,
   "metadata": {},
   "outputs": [
    {
     "name": "stdout",
     "output_type": "stream",
     "text": [
      "Average length of time on Facebook: 13.65 years (SD = 2.56)\n",
      "Average number of posts on Facebook: 4018.48 (SD = 5569.63)\n",
      "Average length of time on Facebook before DX: 5.03 years (SD = 5.75)\n"
     ]
    }
   ],
   "source": [
    "# Time on FB among people with movement disorders\n",
    "# Filter only participants with a movement disorder (i.e., those with a diagnosis date)\n",
    "patient_activity = participant_activity[pd.notna(participant_activity['diagnosis_date'])].copy()\n",
    "\n",
    "# Calculate the average length of time on Facebook in years\n",
    "average_facebook_duration_years = patient_activity['time_on_facebook_years'].mean()\n",
    "sd_facebook_duration_years = patient_activity['time_on_facebook_years'].std()\n",
    "\n",
    "# Display result\n",
    "print(f\"Average length of time on Facebook: {average_facebook_duration_years:.2f} years (SD = {round(sd_facebook_duration_years,2)})\")\n",
    "\n",
    "# Calculate the average number of posts on Facebook \n",
    "average_facebook_posts = patient_activity['num_posts'].mean()\n",
    "sd_facebook_posts = patient_activity['num_posts'].std()\n",
    "\n",
    "# Display result\n",
    "print(f\"Average number of posts on Facebook: {average_facebook_posts:.2f} (SD = {round(sd_facebook_posts,2)})\")\n",
    "\n",
    "# Time before DX\n",
    "# Convert time_before_diagnosis\t to years\n",
    "patient_activity['time_before_diagnosis_years'] = patient_activity['time_before_diagnosis'].dt.total_seconds() / (365.25 * 24 * 3600)\n",
    "# Calculate the average length of time on Facebook in years\n",
    "average_facebook_duration_years = patient_activity['time_before_diagnosis_years'].mean()\n",
    "sd_facebook_duration_years = patient_activity['time_before_diagnosis_years'].std()\n",
    "\n",
    "# Display result\n",
    "print(f\"Average length of time on Facebook before DX: {average_facebook_duration_years:.2f} years (SD = {round(sd_facebook_duration_years,2)})\")\n"
   ]
  },
  {
   "cell_type": "code",
   "execution_count": 14,
   "metadata": {},
   "outputs": [
    {
     "name": "stdout",
     "output_type": "stream",
     "text": [
      "Average length of time on Facebook: 13.83 years (SD = 2.56)\n",
      "Average number of posts on Facebook: 4018.48 (SD = 5569.63)\n",
      "Average length of time on Facebook before DX: 5.12 years (SD = 6.12)\n"
     ]
    }
   ],
   "source": [
    "# PwPD\n",
    "\n",
    "# Time on FB among people with movement disorders\n",
    "# Filter only participants with a movement disorder (i.e., those with a diagnosis date)\n",
    "pd_activity = participant_activity[participant_activity['dx_type'] == \"Parkinson's disease\"].copy()\n",
    "\n",
    "# Calculate the average length of time on Facebook in years\n",
    "average_facebook_duration_years = pd_activity['time_on_facebook_years'].mean()\n",
    "sd_facebook_duration_years = pd_activity['time_on_facebook_years'].std()\n",
    "\n",
    "# Display result\n",
    "print(f\"Average length of time on Facebook: {average_facebook_duration_years:.2f} years (SD = {round(sd_facebook_duration_years,2)})\")\n",
    "\n",
    "# Calculate the average number of posts on Facebook \n",
    "average_facebook_posts = patient_activity['num_posts'].mean()\n",
    "sd_facebook_posts = patient_activity['num_posts'].std()\n",
    "\n",
    "# Display result\n",
    "print(f\"Average number of posts on Facebook: {average_facebook_posts:.2f} (SD = {round(sd_facebook_posts,2)})\")\n",
    "\n",
    "# Time before DX\n",
    "# Convert time_before_diagnosis\t to years\n",
    "pd_activity['time_before_diagnosis_years'] = pd_activity['time_before_diagnosis'].dt.total_seconds() / (365.25 * 24 * 3600)\n",
    "# Calculate the average length of time on Facebook in years\n",
    "average_facebook_duration_years = pd_activity['time_before_diagnosis_years'].mean()\n",
    "sd_facebook_duration_years = pd_activity['time_before_diagnosis_years'].std()\n",
    "\n",
    "# Display result\n",
    "print(f\"Average length of time on Facebook before DX: {average_facebook_duration_years:.2f} years (SD = {round(sd_facebook_duration_years,2)})\")"
   ]
  },
  {
   "cell_type": "code",
   "execution_count": 19,
   "metadata": {},
   "outputs": [],
   "source": [
    "# Ensure 'dob' and 'first_post' are in datetime format\n",
    "pd_activity['dob'] = pd.to_datetime(pd_activity['dob'], errors='coerce')\n",
    "\n",
    "# Calculate age at newest/oldest post in years\n",
    "pd_activity['age_at_newest'] = (pd_activity['last_post'] - pd_activity['dob']).dt.total_seconds() / (365.25 * 24 * 3600)\n",
    "pd_activity['age_at_oldest'] = (pd_activity['first_post'] - pd_activity['dob']).dt.total_seconds() / (365.25 * 24 * 3600)\n",
    "pd_activity['dx_age'] = (pd_activity['diagnosis_date'] - pd_activity['dob']).dt.total_seconds() / (365.25 * 24 * 3600)"
   ]
  },
  {
   "cell_type": "code",
   "execution_count": null,
   "metadata": {},
   "outputs": [],
   "source": [
    "pd_activity"
   ]
  },
  {
   "cell_type": "code",
   "execution_count": 35,
   "metadata": {},
   "outputs": [
    {
     "data": {
      "image/png": "[encoded data removed]",
      "text/plain": [
       "<Figure size 1000x600 with 1 Axes>"
      ]
     },
     "metadata": {},
     "output_type": "display_data"
    }
   ],
   "source": [
    "import matplotlib.pyplot as plt\n",
    "import seaborn as sns\n",
    "\n",
    "# Sort DataFrame by 'age_at_newest' in ascending order\n",
    "pd_activity = pd_activity.sort_values(by='age_at_newest')\n",
    "\n",
    "# Re-index participant IDs based on sorted order for better visualization\n",
    "pd_activity['participant_order'] = range(len(pd_activity))\n",
    "\n",
    "# Create the plot\n",
    "plt.figure(figsize=(10, 6))\n",
    "\n",
    "# Draw timeline segments (equivalent to geom_segment)\n",
    "for index, row in pd_activity.iterrows():\n",
    "    plt.plot([row['age_at_oldest'], row['age_at_newest']], \n",
    "             [row['participant_order'], row['participant_order']], \n",
    "             color='blue', \n",
    "             linewidth=3)\n",
    "\n",
    "# Add diagnosis points (equivalent to geom_point)\n",
    "plt.scatter(pd_activity['dx_age'], pd_activity['participant_order'], \n",
    "            color='red', s=50, label=\"PD Diagnosis\", zorder=3)\n",
    "\n",
    "# Add bulbs at start and finish\n",
    "plt.scatter(pd_activity['age_at_oldest'], pd_activity['participant_order'], \n",
    "            color='blue', s=20, label=\"Oldest\")\n",
    "plt.scatter(pd_activity['age_at_newest'], pd_activity['participant_order'], \n",
    "            color='blue', s=20, label=\"Newest\")\n",
    "\n",
    "# Labels and title\n",
    "plt.title(\"Timeline of Facebook Data with PD Diagnosis Date\", fontsize=14)\n",
    "plt.xlabel(\"Age, y\", fontsize=12)\n",
    "\n",
    "# Remove y-axis labels and ticks\n",
    "plt.yticks([])\n",
    "\n",
    "# Remove top and right borders (sns.despine does this)\n",
    "sns.despine(left=True, bottom=True)\n",
    "\n",
    "# Add vertical reference lines at 30, 40, 50, 60, 70, 80\n",
    "for i, age in enumerate([30, 40, 50, 60, 70, 80]):\n",
    "    linestyle = '-' if i % 2 == 0 else '--'  # Alternates between solid and dashed\n",
    "    plt.axvline(x=age, color='gray', linestyle=linestyle, linewidth=0.8)\n",
    "\n",
    "# Save as SVG\n",
    "svg_filename = \"../figures/PD_Timeline.svg\"\n",
    "plt.savefig(svg_filename, format=\"svg\", bbox_inches=\"tight\")\n",
    "\n",
    "\n",
    "# Show plot\n",
    "plt.show()"
   ]
  },
  {
   "cell_type": "code",
   "execution_count": 34,
   "metadata": {},
   "outputs": [
    {
     "data": {
      "text/plain": [
       "<Figure size 640x480 with 0 Axes>"
      ]
     },
     "metadata": {},
     "output_type": "display_data"
    }
   ],
   "source": [
    "# Save as SVG\n",
    "svg_filename = \"../figures/PD_Timeline.svg\"\n",
    "plt.savefig(svg_filename, format=\"svg\", bbox_inches=\"tight\")"
   ]
  }
 ],
 "metadata": {
  "kernelspec": {
   "display_name": "pdfb",
   "language": "python",
   "name": "python3"
  },
  "language_info": {
   "codemirror_mode": {
    "name": "ipython",
    "version": 3
   },
   "file_extension": ".py",
   "mimetype": "text/x-python",
   "name": "python",
   "nbconvert_exporter": "python",
   "pygments_lexer": "ipython3",
   "version": "3.10.13"
  }
 },
 "nbformat": 4,
 "nbformat_minor": 2
}
